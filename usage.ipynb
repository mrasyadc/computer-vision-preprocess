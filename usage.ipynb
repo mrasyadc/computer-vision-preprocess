{
 "cells": [
  {
   "cell_type": "code",
   "execution_count": 1,
   "id": "initial_id",
   "metadata": {
    "collapsed": true,
    "ExecuteTime": {
     "end_time": "2024-01-23T16:05:16.421058Z",
     "start_time": "2024-01-23T16:05:16.269430Z"
    }
   },
   "outputs": [],
   "source": [
    "import numpy as np"
   ]
  },
  {
   "cell_type": "code",
   "outputs": [],
   "source": [
    "from image_entropy_equalization import ImageEntropyEqualization"
   ],
   "metadata": {
    "collapsed": false,
    "ExecuteTime": {
     "end_time": "2024-01-23T16:05:16.946675Z",
     "start_time": "2024-01-23T16:05:16.422642Z"
    }
   },
   "id": "903e9d71534619d7",
   "execution_count": 2
  },
  {
   "cell_type": "code",
   "outputs": [],
   "source": [
    "from tensorflow.keras.datasets import mnist"
   ],
   "metadata": {
    "collapsed": false,
    "ExecuteTime": {
     "end_time": "2024-01-23T16:05:18.785584Z",
     "start_time": "2024-01-23T16:05:16.939481Z"
    }
   },
   "id": "ed13deeeddc08370",
   "execution_count": 3
  },
  {
   "cell_type": "code",
   "outputs": [],
   "source": [
    "import matplotlib.pyplot as plt"
   ],
   "metadata": {
    "collapsed": false,
    "ExecuteTime": {
     "end_time": "2024-01-23T16:05:18.978548Z",
     "start_time": "2024-01-23T16:05:18.785478Z"
    }
   },
   "id": "2d99043b75071eb2",
   "execution_count": 4
  },
  {
   "cell_type": "code",
   "outputs": [],
   "source": [
    "from sklearn.utils.validation import check_is_fitted"
   ],
   "metadata": {
    "collapsed": false,
    "ExecuteTime": {
     "end_time": "2024-01-23T16:05:18.983092Z",
     "start_time": "2024-01-23T16:05:18.979981Z"
    }
   },
   "id": "4c066b249c7e90b5",
   "execution_count": 5
  },
  {
   "cell_type": "code",
   "outputs": [],
   "source": [
    "#if you want to equalize fashion_mnist,\n",
    "#mnist=fashion_mnist\n",
    "\n",
    "(train_images, train_labels), (test_images, test_labels) = mnist.load_data()\n",
    "\n",
    "test_labels=test_labels.reshape(len(test_labels))"
   ],
   "metadata": {
    "collapsed": false,
    "ExecuteTime": {
     "end_time": "2024-01-23T16:05:19.128908Z",
     "start_time": "2024-01-23T16:05:18.983145Z"
    }
   },
   "id": "a43e0ed1b5536097",
   "execution_count": 6
  },
  {
   "cell_type": "code",
   "outputs": [],
   "source": [
    "original_images = np.array([train_images[0]])\n",
    "original_labels = np.array([train_labels[0]])"
   ],
   "metadata": {
    "collapsed": false,
    "ExecuteTime": {
     "end_time": "2024-01-23T16:05:19.133404Z",
     "start_time": "2024-01-23T16:05:19.129547Z"
    }
   },
   "id": "11519dd9a26ed43c",
   "execution_count": 7
  },
  {
   "cell_type": "code",
   "outputs": [],
   "source": [
    "# eq = ImageEntropyEqualization(method=\"class\", label_value=5)\n",
    "eq = ImageEntropyEqualization(method=\"entropy\", entropy_value=2)\n",
    "# eq = ImageEntropyEqualization(method=\"all\")"
   ],
   "metadata": {
    "collapsed": false,
    "ExecuteTime": {
     "end_time": "2024-01-23T16:06:19.891815Z",
     "start_time": "2024-01-23T16:06:19.866890Z"
    }
   },
   "id": "1aac4a6ffcab7824",
   "execution_count": 16
  },
  {
   "cell_type": "code",
   "outputs": [],
   "source": [
    "transformed_images = eq.fit_transform(original_images, original_labels)\n",
    "# eq.fit(original_images, original_labels)"
   ],
   "metadata": {
    "collapsed": false,
    "ExecuteTime": {
     "end_time": "2024-01-23T16:06:20.295658Z",
     "start_time": "2024-01-23T16:06:20.290332Z"
    }
   },
   "id": "f8a01235bff78a2d",
   "execution_count": 17
  },
  {
   "cell_type": "code",
   "outputs": [],
   "source": [
    "# if this does not return anything, then it is fitted\n",
    "check_is_fitted(eq)"
   ],
   "metadata": {
    "collapsed": false,
    "ExecuteTime": {
     "end_time": "2024-01-23T16:06:20.761313Z",
     "start_time": "2024-01-23T16:06:20.758461Z"
    }
   },
   "id": "1e0423895e491e14",
   "execution_count": 18
  },
  {
   "cell_type": "code",
   "outputs": [
    {
     "data": {
      "text/plain": "array([[[0., 0., 0., 0., 0., 0., 0., 0., 0., 0., 0., 0., 0., 0., 0., 0.,\n         0., 0., 0., 0., 0., 0., 0., 0., 0., 0., 0., 0.],\n        [0., 0., 0., 0., 0., 0., 0., 0., 0., 0., 0., 0., 0., 0., 0., 0.,\n         0., 0., 0., 0., 0., 0., 0., 0., 0., 0., 0., 0.],\n        [0., 0., 0., 0., 0., 0., 0., 0., 0., 0., 0., 0., 0., 0., 0., 0.,\n         0., 0., 0., 0., 0., 0., 0., 0., 0., 0., 0., 0.],\n        [0., 0., 0., 0., 0., 0., 0., 0., 0., 0., 0., 0., 0., 0., 0., 0.,\n         0., 0., 0., 0., 0., 0., 0., 0., 0., 0., 0., 0.],\n        [0., 0., 0., 0., 0., 0., 0., 0., 0., 0., 0., 0., 0., 0., 0., 0.,\n         0., 0., 0., 0., 0., 0., 0., 0., 0., 0., 0., 0.],\n        [0., 0., 0., 0., 0., 0., 0., 0., 0., 0., 0., 0., 3., 3., 3., 3.,\n         3., 3., 3., 3., 3., 3., 3., 3., 0., 0., 0., 0.],\n        [0., 0., 0., 0., 0., 0., 0., 0., 3., 3., 3., 3., 3., 3., 3., 3.,\n         3., 3., 3., 3., 3., 3., 3., 3., 0., 0., 0., 0.],\n        [0., 0., 0., 0., 0., 0., 0., 3., 3., 3., 3., 3., 3., 3., 3., 3.,\n         3., 3., 3., 3., 3., 3., 3., 0., 0., 0., 0., 0.],\n        [0., 0., 0., 0., 0., 0., 0., 3., 3., 3., 3., 3., 3., 3., 3., 3.,\n         3., 3., 0., 0., 0., 0., 0., 0., 0., 0., 0., 1.],\n        [1., 1., 1., 1., 1., 1., 1., 1., 3., 3., 3., 3., 3., 3., 3., 1.,\n         3., 3., 1., 1., 1., 1., 1., 1., 1., 1., 1., 1.],\n        [1., 1., 1., 1., 1., 1., 1., 1., 1., 3., 3., 3., 3., 3., 1., 1.,\n         1., 1., 1., 1., 1., 1., 1., 1., 1., 1., 1., 1.],\n        [1., 1., 1., 1., 1., 1., 1., 1., 1., 1., 1., 3., 3., 3., 3., 1.,\n         1., 1., 1., 1., 1., 1., 1., 1., 1., 1., 1., 1.],\n        [1., 1., 1., 1., 1., 1., 1., 1., 1., 1., 1., 3., 3., 3., 3., 1.,\n         1., 1., 1., 1., 1., 1., 1., 1., 1., 1., 1., 1.],\n        [1., 1., 1., 1., 1., 1., 1., 1., 1., 1., 1., 1., 3., 3., 3., 3.,\n         3., 3., 1., 1., 1., 1., 1., 1., 1., 1., 1., 1.],\n        [1., 1., 1., 1., 1., 1., 1., 1., 1., 1., 1., 1., 1., 3., 3., 3.,\n         3., 3., 3., 1., 1., 1., 1., 1., 1., 1., 1., 1.],\n        [1., 1., 1., 1., 1., 1., 1., 1., 1., 1., 1., 1., 1., 1., 3., 3.,\n         3., 3., 3., 3., 1., 1., 1., 1., 1., 1., 1., 1.],\n        [1., 1., 1., 1., 1., 1., 1., 1., 1., 1., 1., 1., 1., 1., 1., 3.,\n         3., 3., 3., 3., 1., 1., 1., 1., 1., 1., 1., 1.],\n        [1., 1., 1., 1., 1., 1., 1., 1., 1., 1., 1., 1., 1., 1., 1., 1.,\n         2., 3., 3., 3., 3., 2., 2., 2., 2., 2., 2., 2.],\n        [2., 2., 2., 2., 2., 2., 2., 2., 2., 2., 2., 2., 2., 2., 3., 3.,\n         3., 3., 3., 3., 3., 2., 2., 2., 2., 2., 2., 2.],\n        [2., 2., 2., 2., 2., 2., 2., 2., 2., 2., 2., 2., 3., 3., 3., 3.,\n         3., 3., 3., 3., 2., 2., 2., 2., 2., 2., 2., 2.],\n        [2., 2., 2., 2., 2., 2., 2., 2., 2., 2., 3., 3., 3., 3., 3., 3.,\n         3., 3., 3., 2., 2., 2., 2., 2., 2., 2., 2., 2.],\n        [2., 2., 2., 2., 2., 2., 2., 2., 3., 3., 3., 3., 3., 3., 3., 3.,\n         3., 3., 2., 2., 2., 2., 2., 2., 2., 2., 2., 2.],\n        [2., 2., 2., 2., 2., 2., 3., 3., 3., 3., 3., 3., 3., 3., 3., 3.,\n         2., 2., 2., 2., 2., 2., 2., 2., 2., 2., 2., 2.],\n        [2., 2., 2., 2., 3., 3., 3., 3., 3., 3., 3., 3., 3., 3., 2., 2.,\n         2., 2., 2., 2., 2., 2., 2., 2., 2., 2., 2., 2.],\n        [2., 2., 2., 2., 3., 3., 3., 3., 3., 3., 3., 3., 2., 2., 2., 2.,\n         2., 2., 2., 2., 2., 2., 2., 2., 2., 2., 2., 2.],\n        [2., 2., 2., 2., 2., 2., 2., 2., 2., 2., 2., 2., 2., 2., 2., 2.,\n         2., 2., 2., 2., 2., 2., 2., 2., 2., 2., 2., 2.],\n        [2., 2., 2., 2., 2., 2., 2., 2., 2., 2., 2., 2., 2., 2., 2., 2.,\n         2., 2., 2., 2., 2., 2., 2., 2., 2., 2., 3., 3.],\n        [3., 3., 3., 3., 3., 3., 3., 3., 3., 3., 3., 3., 3., 3., 3., 3.,\n         3., 3., 3., 3., 3., 3., 3., 3., 3., 3., 3., 3.]]])"
     },
     "execution_count": 19,
     "metadata": {},
     "output_type": "execute_result"
    }
   ],
   "source": [
    "transformed_images"
   ],
   "metadata": {
    "collapsed": false,
    "ExecuteTime": {
     "end_time": "2024-01-23T16:06:21.332106Z",
     "start_time": "2024-01-23T16:06:21.326448Z"
    }
   },
   "id": "d4bf139c993cb9a9",
   "execution_count": 19
  },
  {
   "cell_type": "code",
   "outputs": [
    {
     "data": {
      "text/plain": "<Figure size 800x400 with 2 Axes>",
      "image/png": "[encoded data removed]"
     },
     "metadata": {},
     "output_type": "display_data"
    }
   ],
   "source": [
    "plt.figure(figsize=(8, 4))\n",
    "\n",
    "plt.subplot(1, 2, 1)\n",
    "plt.imshow(original_images[0], cmap='gray')\n",
    "plt.title('Original Image')\n",
    "plt.axis('off')\n",
    "\n",
    "plt.subplot(1, 2, 2)\n",
    "plt.imshow(transformed_images[0], cmap='gray')\n",
    "plt.title('Transformed Image')\n",
    "plt.axis('off')\n",
    "\n",
    "plt.show()"
   ],
   "metadata": {
    "collapsed": false,
    "ExecuteTime": {
     "end_time": "2024-01-23T16:06:22.097696Z",
     "start_time": "2024-01-23T16:06:21.918549Z"
    }
   },
   "id": "6c42627866c2d99f",
   "execution_count": 20
  }
 ],
 "metadata": {
  "kernelspec": {
   "display_name": "Python 3",
   "language": "python",
   "name": "python3"
  },
  "language_info": {
   "codemirror_mode": {
    "name": "ipython",
    "version": 2
   },
   "file_extension": ".py",
   "mimetype": "text/x-python",
   "name": "python",
   "nbconvert_exporter": "python",
   "pygments_lexer": "ipython2",
   "version": "2.7.6"
  }
 },
 "nbformat": 4,
 "nbformat_minor": 5
}
